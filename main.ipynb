{
 "cells": [
  {
   "cell_type": "code",
   "execution_count": null,
   "metadata": {},
   "outputs": [],
   "source": [
    "import requests\n",
    "from bs4 import BeautifulSoup\n",
    "\n",
    "# Make a request to the website\n",
    "response = requests.get(\"https://sportshub.perfectgym.com/clientportal2/#/FacilityBooking?clubId=1&zoneTypeId=31&date=2023-02-12\")\n",
    "\n",
    "# Parse the HTML response using BeautifulSoup\n",
    "soup = BeautifulSoup(response.text, \"html.parser\")\n",
    "\n",
    "# Find a specific element using its tag name and attributes\n",
    "element = soup.find(\"tag_name\", attrs={\"attribute_name\": \"attribute_value\"})\n",
    "\n",
    "# Extract the data from the element\n",
    "data = element.text\n",
    "\n",
    "# Print the extracted data\n",
    "print(data)"
   ]
  }
 ],
 "metadata": {
  "language_info": {
   "name": "python"
  },
  "orig_nbformat": 4
 },
 "nbformat": 4,
 "nbformat_minor": 2
}
